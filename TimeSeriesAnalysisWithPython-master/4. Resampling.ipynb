{
 "cells": [
  {
   "cell_type": "code",
   "execution_count": 1,
   "metadata": {
    "collapsed": true
   },
   "outputs": [],
   "source": [
    "import pandas as pd\n",
    "import numpy as np"
   ]
  },
  {
   "cell_type": "code",
   "execution_count": 2,
   "metadata": {
    "collapsed": true
   },
   "outputs": [],
   "source": [
    "rng = pd.date_range('1/1/2011', periods=72, freq='H')\n",
    "ts = pd.Series(np.random.randn(len(rng)), index=rng)"
   ]
  },
  {
   "cell_type": "code",
   "execution_count": 3,
   "metadata": {
    "collapsed": false
   },
   "outputs": [
    {
     "data": {
      "text/plain": [
       "2011-01-01 00:00:00    0.724095\n",
       "2011-01-01 01:00:00    0.798094\n",
       "2011-01-01 02:00:00   -0.295972\n",
       "2011-01-01 03:00:00   -1.508554\n",
       "2011-01-01 04:00:00   -0.385744\n",
       "Freq: H, dtype: float64"
      ]
     },
     "execution_count": 3,
     "metadata": {},
     "output_type": "execute_result"
    }
   ],
   "source": [
    "ts.head()"
   ]
  },
  {
   "cell_type": "code",
   "execution_count": 4,
   "metadata": {
    "collapsed": false
   },
   "outputs": [
    {
     "data": {
      "text/plain": [
       "2011-01-01 00:00:00    0.724095\n",
       "2011-01-01 00:45:00    0.724095\n",
       "2011-01-01 01:30:00    0.798094\n",
       "2011-01-01 02:15:00   -0.295972\n",
       "2011-01-01 03:00:00   -1.508554\n",
       "Freq: 45T, dtype: float64"
      ]
     },
     "execution_count": 4,
     "metadata": {},
     "output_type": "execute_result"
    }
   ],
   "source": [
    "converted = ts.asfreq('45Min', method='pad')\n",
    "converted.head()"
   ]
  },
  {
   "cell_type": "code",
   "execution_count": 7,
   "metadata": {
    "collapsed": false
   },
   "outputs": [
    {
     "data": {
      "text/plain": [
       "(95,)"
      ]
     },
     "execution_count": 7,
     "metadata": {},
     "output_type": "execute_result"
    }
   ],
   "source": [
    "# Does asfreq change the # of rows?\n",
    "ts.shape\n",
    "converted.shape"
   ]
  },
  {
   "cell_type": "code",
   "execution_count": 8,
   "metadata": {
    "collapsed": false
   },
   "outputs": [],
   "source": [
    "# What do the different methods do?\n",
    "# method : {‘backfill’, ‘bfill’, ‘pad’, ‘ffill’, None}"
   ]
  },
  {
   "cell_type": "code",
   "execution_count": 9,
   "metadata": {
    "collapsed": false
   },
   "outputs": [],
   "source": [
    "# Might any of these methods have pitfalls from a logical point of view?"
   ]
  },
  {
   "cell_type": "code",
   "execution_count": 10,
   "metadata": {
    "collapsed": true
   },
   "outputs": [],
   "source": [
    "# What's the difference between going to a higher frequency and a lower frequency?"
   ]
  },
  {
   "cell_type": "code",
   "execution_count": 12,
   "metadata": {
    "collapsed": false
   },
   "outputs": [
    {
     "data": {
      "text/plain": [
       "2011-01-01 00:00:00    0.724095\n",
       "2011-01-01 01:30:00   -0.295972\n",
       "2011-01-01 03:00:00   -1.508554\n",
       "2011-01-01 04:30:00    0.697101\n",
       "2011-01-01 06:00:00    0.853905\n",
       "2011-01-01 07:30:00   -0.527814\n",
       "2011-01-01 09:00:00    0.454303\n",
       "2011-01-01 10:30:00    0.411311\n",
       "2011-01-01 12:00:00    0.385779\n",
       "2011-01-01 13:30:00    0.550876\n",
       "2011-01-01 15:00:00    1.120119\n",
       "2011-01-01 16:30:00   -0.151577\n",
       "2011-01-01 18:00:00   -0.556759\n",
       "2011-01-01 19:30:00   -0.920630\n",
       "2011-01-01 21:00:00   -0.748956\n",
       "2011-01-01 22:30:00    0.026755\n",
       "2011-01-02 00:00:00   -0.607191\n",
       "2011-01-02 01:30:00   -1.059299\n",
       "2011-01-02 03:00:00   -1.820390\n",
       "2011-01-02 04:30:00    0.774958\n",
       "2011-01-02 06:00:00    0.702668\n",
       "2011-01-02 07:30:00    0.623563\n",
       "2011-01-02 09:00:00   -0.638687\n",
       "2011-01-02 10:30:00    1.582274\n",
       "2011-01-02 12:00:00   -2.060223\n",
       "2011-01-02 13:30:00   -0.085519\n",
       "2011-01-02 15:00:00   -0.432451\n",
       "2011-01-02 16:30:00    1.062899\n",
       "2011-01-02 18:00:00    0.090490\n",
       "2011-01-02 19:30:00   -1.686812\n",
       "2011-01-02 21:00:00    0.640569\n",
       "2011-01-02 22:30:00    1.516198\n",
       "2011-01-03 00:00:00    0.449408\n",
       "2011-01-03 01:30:00    0.278284\n",
       "2011-01-03 03:00:00    0.968019\n",
       "2011-01-03 04:30:00   -0.172549\n",
       "2011-01-03 06:00:00    0.561900\n",
       "2011-01-03 07:30:00    0.037141\n",
       "2011-01-03 09:00:00    0.777119\n",
       "2011-01-03 10:30:00    1.818751\n",
       "2011-01-03 12:00:00   -0.597779\n",
       "2011-01-03 13:30:00    0.159937\n",
       "2011-01-03 15:00:00   -0.140589\n",
       "2011-01-03 16:30:00   -0.582126\n",
       "2011-01-03 18:00:00   -0.162494\n",
       "2011-01-03 19:30:00   -0.595458\n",
       "2011-01-03 21:00:00    1.680185\n",
       "2011-01-03 22:30:00    0.540470\n",
       "Freq: 90T, dtype: float64"
      ]
     },
     "execution_count": 12,
     "metadata": {},
     "output_type": "execute_result"
    }
   ],
   "source": [
    "converted = ts.asfreq('90Min', method = 'bfill')\n",
    "converted"
   ]
  },
  {
   "cell_type": "code",
   "execution_count": null,
   "metadata": {
    "collapsed": true
   },
   "outputs": [],
   "source": [
    "# What's different logically about going to a higher frequency vs a lower frequency? \n",
    "# What do you want to do when switching to a lower freqeuncy that is not logical when switching to a higher frequency?"
   ]
  },
  {
   "cell_type": "code",
   "execution_count": 13,
   "metadata": {
    "collapsed": false
   },
   "outputs": [
    {
     "data": {
      "text/plain": [
       "2011-01-01    0.086447\n",
       "2011-01-02    3.670393\n",
       "2011-01-03    7.309973\n",
       "Freq: D, dtype: float64"
      ]
     },
     "execution_count": 13,
     "metadata": {},
     "output_type": "execute_result"
    }
   ],
   "source": [
    "ts.resample('D').sum()"
   ]
  },
  {
   "cell_type": "code",
   "execution_count": null,
   "metadata": {
    "collapsed": true
   },
   "outputs": [],
   "source": [
    "# What if you want to downsample and you don't want to ffill or bfill?\n",
    "#method=None"
   ]
  },
  {
   "cell_type": "code",
   "execution_count": null,
   "metadata": {
    "collapsed": true
   },
   "outputs": [],
   "source": [
    "# What is the difference between .resample() and .asfreq()?\n",
    "#.asfreq() is quite limited, while resample will produce a new object"
   ]
  },
  {
   "cell_type": "code",
   "execution_count": null,
   "metadata": {
    "collapsed": true
   },
   "outputs": [],
   "source": [
    "# What are some special things you can do with .resample() you can't do with .asfreq()?\n",
    "#.mean(), .sum(), etc."
   ]
  },
  {
   "cell_type": "code",
   "execution_count": null,
   "metadata": {
    "collapsed": true
   },
   "outputs": [],
   "source": []
  }
 ],
 "metadata": {
  "kernelspec": {
   "display_name": "Python 3",
   "language": "python",
   "name": "python3"
  },
  "language_info": {
   "codemirror_mode": {
    "name": "ipython",
    "version": 3
   },
   "file_extension": ".py",
   "mimetype": "text/x-python",
   "name": "python",
   "nbconvert_exporter": "python",
   "pygments_lexer": "ipython3",
   "version": "3.6.0"
  }
 },
 "nbformat": 4,
 "nbformat_minor": 0
}

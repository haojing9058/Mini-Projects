{
 "cells": [
  {
   "cell_type": "code",
   "execution_count": 1,
   "metadata": {
    "collapsed": true
   },
   "outputs": [],
   "source": [
    "import numpy as np\n",
    "import pandas as pd"
   ]
  },
  {
   "cell_type": "code",
   "execution_count": 2,
   "metadata": {
    "collapsed": false
   },
   "outputs": [
    {
     "name": "stdout",
     "output_type": "stream",
     "text": [
      "None\n"
     ]
    }
   ],
   "source": [
    "rng = pd.date_range('3/6/2012 00:00', periods = 15, freq = 'D')\n",
    "print(rng.tz)"
   ]
  },
  {
   "cell_type": "code",
   "execution_count": 3,
   "metadata": {
    "collapsed": false
   },
   "outputs": [
    {
     "data": {
      "text/plain": [
       "<DstTzInfo 'Europe/London' LMT-1 day, 23:59:00 STD>"
      ]
     },
     "execution_count": 3,
     "metadata": {},
     "output_type": "execute_result"
    }
   ],
   "source": [
    "rng_tz = pd.date_range('3/6/2012 00:00', periods = 15, freq = 'D', tz = 'Europe/London')\n",
    "rng_tz.tz"
   ]
  },
  {
   "cell_type": "code",
   "execution_count": 4,
   "metadata": {
    "collapsed": false
   },
   "outputs": [
    {
     "name": "stdout",
     "output_type": "stream",
     "text": [
      "439\n",
      "592\n",
      "{'Australia/West', 'GMT+0', 'Jamaica', 'Asia/Istanbul', 'America/Louisville', 'Asia/Macao', 'Etc/GMT+4', 'Etc/GMT+9', 'Asia/Rangoon', 'Asia/Chongqing', 'Kwajalein', 'Mexico/BajaNorte', 'Etc/GMT-10', 'Etc/GMT+2', 'Etc/GMT+3', 'Australia/Yancowinna', 'Brazil/Acre', 'Mexico/BajaSur', 'America/Buenos_Aires', 'Etc/GMT+12', 'America/Coral_Harbour', 'Australia/North', 'Etc/GMT0', 'Etc/GMT-0', 'US/Samoa', 'Canada/East-Saskatchewan', 'Iran', 'Etc/GMT-12', 'MST7MDT', 'Asia/Thimbu', 'America/Virgin', 'Israel', 'Asia/Kashgar', 'MET', 'W-SU', 'America/Rosario', 'Asia/Tel_Aviv', 'Pacific/Truk', 'ROC', 'Etc/GMT-8', 'Etc/GMT+8', 'Etc/GMT', 'Iceland', 'Australia/Queensland', 'Etc/GMT-13', 'America/Santa_Isabel', 'GMT-0', 'Etc/GMT-2', 'Australia/NSW', 'Africa/Asmera', 'Canada/Yukon', 'Brazil/East', 'Etc/GMT-6', 'GB', 'Zulu', 'Etc/GMT-14', 'Poland', 'Asia/Dacca', 'Pacific/Samoa', 'Libya', 'America/Argentina/ComodRivadavia', 'Greenwich', 'Asia/Calcutta', 'Australia/Tasmania', 'Etc/UCT', 'Eire', 'Etc/GMT-3', 'Etc/GMT-9', 'Navajo', 'CET', 'Etc/GMT+11', 'Universal', 'Asia/Katmandu', 'Asia/Ujung_Pandang', 'America/Knox_IN', 'Australia/Canberra', 'Portugal', 'PST8PDT', 'America/Mendoza', 'CST6CDT', 'America/Montreal', 'Etc/GMT+10', 'Asia/Chungking', 'America/Shiprock', 'WET', 'Etc/Universal', 'Pacific/Ponape', 'Asia/Saigon', 'Hongkong', 'EET', 'Canada/Saskatchewan', 'ROK', 'America/Cordoba', 'Etc/GMT+5', 'Atlantic/Jan_Mayen', 'America/Jujuy', 'Etc/GMT+0', 'Etc/GMT+1', 'Etc/Greenwich', 'Atlantic/Faeroe', 'Brazil/West', 'EST', 'Europe/Nicosia', 'America/Porto_Acre', 'NZ', 'Etc/GMT-11', 'EST5EDT', 'Etc/GMT+7', 'Antarctica/South_Pole', 'PRC', 'Turkey', 'Europe/Belfast', 'Chile/EasterIsland', 'US/Aleutian', 'Pacific/Yap', 'Egypt', 'Etc/Zulu', 'NZ-CHAT', 'Asia/Harbin', 'US/Michigan', 'Asia/Ashkhabad', 'Europe/Tiraspol', 'Japan', 'America/Ensenada', 'Africa/Timbuktu', 'Etc/UTC', 'America/Catamarca', 'Chile/Continental', 'Mexico/General', 'Australia/South', 'Asia/Ulan_Bator', 'US/East-Indiana', 'GB-Eire', 'Etc/GMT-5', 'America/Indianapolis', 'Australia/ACT', 'Brazil/DeNoronha', 'GMT0', 'Etc/GMT-4', 'Singapore', 'America/Atka', 'US/Indiana-Starke', 'Etc/GMT-7', 'HST', 'Etc/GMT+6', 'US/Pacific-New', 'America/Fort_Wayne', 'Etc/GMT-1', 'UCT', 'Australia/Victoria', 'Cuba', 'Australia/LHI', 'MST'}\n"
     ]
    }
   ],
   "source": [
    "from pytz import common_timezones, all_timezones\n",
    "print(len(common_timezones))\n",
    "print(len(all_timezones))\n",
    "print(set(all_timezones) - set(common_timezones))"
   ]
  },
  {
   "cell_type": "code",
   "execution_count": 5,
   "metadata": {
    "collapsed": false
   },
   "outputs": [
    {
     "data": {
      "text/plain": [
       "Timestamp('2016-07-10 08:50:00')"
      ]
     },
     "execution_count": 5,
     "metadata": {},
     "output_type": "execute_result"
    }
   ],
   "source": [
    "# You can also localize a naive timestamp\n",
    "t_naive = pd.Timestamp('2016-07-10 08:50')\n",
    "t_naive"
   ]
  },
  {
   "cell_type": "code",
   "execution_count": 6,
   "metadata": {
    "collapsed": false
   },
   "outputs": [
    {
     "data": {
      "text/plain": [
       "Timestamp('2016-07-10 08:50:00-0500', tz='US/Central')"
      ]
     },
     "execution_count": 6,
     "metadata": {},
     "output_type": "execute_result"
    }
   ],
   "source": [
    "t = t_naive.tz_localize(tz = 'US/Central')\n",
    "t"
   ]
  },
  {
   "cell_type": "code",
   "execution_count": 7,
   "metadata": {
    "collapsed": false
   },
   "outputs": [
    {
     "data": {
      "text/plain": [
       "Timestamp('2016-07-10 22:50:00+0900', tz='Asia/Tokyo')"
      ]
     },
     "execution_count": 7,
     "metadata": {},
     "output_type": "execute_result"
    }
   ],
   "source": [
    "t.tz_convert('Asia/Tokyo')"
   ]
  },
  {
   "cell_type": "code",
   "execution_count": 8,
   "metadata": {
    "collapsed": false
   },
   "outputs": [
    {
     "data": {
      "text/plain": [
       "2016-03-10 00:00:00-06:00    0\n",
       "2016-03-11 00:00:00-06:00    1\n",
       "2016-03-12 00:00:00-06:00    2\n",
       "2016-03-13 00:00:00-06:00    3\n",
       "2016-03-14 00:00:00-05:00    4\n",
       "2016-03-15 00:00:00-05:00    5\n",
       "2016-03-16 00:00:00-05:00    6\n",
       "2016-03-17 00:00:00-05:00    7\n",
       "2016-03-18 00:00:00-05:00    8\n",
       "2016-03-19 00:00:00-05:00    9\n",
       "Freq: D, dtype: int64"
      ]
     },
     "execution_count": 8,
     "metadata": {},
     "output_type": "execute_result"
    }
   ],
   "source": [
    "# how to handle daylight savings?\n",
    "rng = pd.date_range('2016-03-10', periods=10, tz='US/Central')\n",
    "ts = pd.Series(range(10), index=rng)\n",
    "ts"
   ]
  },
  {
   "cell_type": "code",
   "execution_count": 9,
   "metadata": {
    "collapsed": false
   },
   "outputs": [
    {
     "data": {
      "text/plain": [
       "2016-03-10 00:00:00+00:00    0\n",
       "2016-03-11 00:00:00+00:00    1\n",
       "2016-03-12 00:00:00+00:00    2\n",
       "2016-03-13 00:00:00+00:00    3\n",
       "2016-03-14 00:00:00+00:00    4\n",
       "2016-03-15 00:00:00+00:00    5\n",
       "2016-03-16 00:00:00+00:00    6\n",
       "2016-03-17 00:00:00+00:00    7\n",
       "2016-03-18 00:00:00+00:00    8\n",
       "2016-03-19 00:00:00+00:00    9\n",
       "Freq: D, dtype: int64"
      ]
     },
     "execution_count": 9,
     "metadata": {},
     "output_type": "execute_result"
    }
   ],
   "source": [
    "rng = pd.date_range('2016-03-10', periods=10, tz='utc')\n",
    "ts = pd.Series(range(10), index=rng)\n",
    "ts"
   ]
  },
  {
   "cell_type": "code",
   "execution_count": 10,
   "metadata": {
    "collapsed": false
   },
   "outputs": [
    {
     "data": {
      "text/plain": [
       "2016-03-09 18:00:00-06:00    0\n",
       "2016-03-10 18:00:00-06:00    1\n",
       "2016-03-11 18:00:00-06:00    2\n",
       "2016-03-12 18:00:00-06:00    3\n",
       "2016-03-13 19:00:00-05:00    4\n",
       "2016-03-14 19:00:00-05:00    5\n",
       "2016-03-15 19:00:00-05:00    6\n",
       "2016-03-16 19:00:00-05:00    7\n",
       "2016-03-17 19:00:00-05:00    8\n",
       "2016-03-18 19:00:00-05:00    9\n",
       "Freq: D, dtype: int64"
      ]
     },
     "execution_count": 10,
     "metadata": {},
     "output_type": "execute_result"
    }
   ],
   "source": [
    "ts.tz_convert('US/Central')"
   ]
  },
  {
   "cell_type": "code",
   "execution_count": 11,
   "metadata": {
    "collapsed": false
   },
   "outputs": [
    {
     "data": {
      "text/plain": [
       "DatetimeIndex(['2016-03-12 22:00:00-05:00', '2016-03-12 23:00:00-05:00',\n",
       "               '2016-03-13 00:00:00-05:00', '2016-03-13 01:00:00-05:00',\n",
       "               '2016-03-13 03:00:00-04:00', '2016-03-13 04:00:00-04:00',\n",
       "               '2016-03-13 05:00:00-04:00', '2016-03-13 06:00:00-04:00',\n",
       "               '2016-03-13 07:00:00-04:00', '2016-03-13 08:00:00-04:00',\n",
       "               '2016-03-13 09:00:00-04:00', '2016-03-13 10:00:00-04:00'],\n",
       "              dtype='datetime64[ns, US/Eastern]', freq='H')"
      ]
     },
     "execution_count": 11,
     "metadata": {},
     "output_type": "execute_result"
    }
   ],
   "source": [
    "pd.date_range('03-12-2016 22:00', periods = 12, freq = 'H', tz = 'US/Eastern')"
   ]
  },
  {
   "cell_type": "code",
   "execution_count": 12,
   "metadata": {
    "collapsed": false
   },
   "outputs": [
    {
     "data": {
      "text/plain": [
       "Timestamp('2016-03-13 03:00:00-0400', tz='US/Eastern')"
      ]
     },
     "execution_count": 12,
     "metadata": {},
     "output_type": "execute_result"
    }
   ],
   "source": [
    "# May autocorrect an error rather than giving you a non-existent time error\n",
    "pd.Timestamp('2016-03-13 02:00', tz = 'US/Eastern')"
   ]
  },
  {
   "cell_type": "code",
   "execution_count": null,
   "metadata": {
    "collapsed": true
   },
   "outputs": [],
   "source": []
  }
 ],
 "metadata": {
  "kernelspec": {
   "display_name": "Python 3",
   "language": "python",
   "name": "python3"
  },
  "language_info": {
   "codemirror_mode": {
    "name": "ipython",
    "version": 3
   },
   "file_extension": ".py",
   "mimetype": "text/x-python",
   "name": "python",
   "nbconvert_exporter": "python",
   "pygments_lexer": "ipython3",
   "version": "3.6.0"
  }
 },
 "nbformat": 4,
 "nbformat_minor": 0
}
